{
 "cells": [
  {
   "cell_type": "markdown",
   "metadata": {},
   "source": [
    "### Get started with _pandas_ !"
   ]
  },
  {
   "cell_type": "markdown",
   "metadata": {},
   "source": [
    "#### Section 1.1"
   ]
  },
  {
   "cell_type": "code",
   "execution_count": 32,
   "metadata": {},
   "outputs": [
    {
     "data": {
      "text/plain": [
       "0    Alice\n",
       "1     Jack\n",
       "2    Molly\n",
       "dtype: object"
      ]
     },
     "execution_count": 32,
     "metadata": {},
     "output_type": "execute_result"
    }
   ],
   "source": [
    "# example 1\n",
    "\n",
    "import pandas as pd\n",
    "\n",
    "students = ['Alice', 'Jack', 'Molly']\n",
    "\n",
    "pd.Series(students)"
   ]
  },
  {
   "cell_type": "code",
   "execution_count": 4,
   "metadata": {},
   "outputs": [
    {
     "data": {
      "text/plain": [
       "0    1\n",
       "1    2\n",
       "2    3\n",
       "dtype: int64"
      ]
     },
     "execution_count": 4,
     "metadata": {},
     "output_type": "execute_result"
    }
   ],
   "source": [
    "# example 2\n",
    "\n",
    "numbers = [1, 2, 3]\n",
    "\n",
    "pd.Series(numbers)"
   ]
  },
  {
   "cell_type": "code",
   "execution_count": 5,
   "metadata": {},
   "outputs": [
    {
     "data": {
      "text/plain": [
       "0    Alice\n",
       "1     Jack\n",
       "2     None\n",
       "dtype: object"
      ]
     },
     "execution_count": 5,
     "metadata": {},
     "output_type": "execute_result"
    }
   ],
   "source": [
    "# example 3\n",
    "\n",
    "students = ['Alice', 'Jack', None]\n",
    "\n",
    "pd.Series(students)"
   ]
  },
  {
   "cell_type": "code",
   "execution_count": 6,
   "metadata": {},
   "outputs": [
    {
     "data": {
      "text/plain": [
       "0    1.0\n",
       "1    2.0\n",
       "2    NaN\n",
       "dtype: float64"
      ]
     },
     "execution_count": 6,
     "metadata": {},
     "output_type": "execute_result"
    }
   ],
   "source": [
    "# example 4\n",
    "\n",
    "numbers = [1, 2, None]\n",
    "\n",
    "pd.Series(numbers)"
   ]
  },
  {
   "cell_type": "markdown",
   "metadata": {},
   "source": [
    "- _NaN_ is a different value.\n",
    "- _pandas_ set the dtype of this series to floating point numbers instead of object or ints.\n",
    "- so _pandas_ represents _NaN_ as a floating point number."
   ]
  },
  {
   "cell_type": "code",
   "execution_count": 27,
   "metadata": {},
   "outputs": [
    {
     "name": "stdout",
     "output_type": "stream",
     "text": [
      "False\n",
      "False\n",
      "True\n"
     ]
    }
   ],
   "source": [
    "# example 5\n",
    "\n",
    "import numpy as np\n",
    "\n",
    "print(np.nan == None)\n",
    "print(np.nan == np.nan)\n",
    "\n",
    "# instead use this :\n",
    "\n",
    "print(np.isnan(np.nan))"
   ]
  },
  {
   "cell_type": "code",
   "execution_count": 8,
   "metadata": {},
   "outputs": [
    {
     "name": "stdout",
     "output_type": "stream",
     "text": [
      "Alice      Physics\n",
      "Jack     Chemistry\n",
      "Molly      English\n",
      "dtype: object\n",
      "Index(['Alice', 'Jack', 'Molly'], dtype='object')\n"
     ]
    }
   ],
   "source": [
    "# example 6\n",
    "\n",
    "students_scores = {'Alice': 'Physics',\n",
    "                   'Jack': 'Chemistry',\n",
    "                   'Molly': 'English'}\n",
    "\n",
    "s = pd.Series(students_scores)\n",
    "\n",
    "print(s)\n",
    "print(s.index)\n"
   ]
  },
  {
   "cell_type": "code",
   "execution_count": 9,
   "metadata": {},
   "outputs": [
    {
     "name": "stdout",
     "output_type": "stream",
     "text": [
      "1      Physics\n",
      "2    Chemistry\n",
      "3      English\n",
      "dtype: object\n"
     ]
    }
   ],
   "source": [
    "# example 7\n",
    "\n",
    "s = pd.Series(['Physics', 'Chemistry', 'English'], index=[1, 2, 3])\n",
    "\n",
    "print(s)"
   ]
  },
  {
   "cell_type": "markdown",
   "metadata": {},
   "source": [
    "#### Section 1.2"
   ]
  },
  {
   "cell_type": "code",
   "execution_count": 10,
   "metadata": {},
   "outputs": [
    {
     "name": "stdout",
     "output_type": "stream",
     "text": [
      "Alice      Physics\n",
      "Jack     Chemistry\n",
      "Molly      English\n",
      "Sam        History\n",
      "dtype: object\n",
      "History\n",
      "English\n"
     ]
    }
   ],
   "source": [
    "# example 1\n",
    "\n",
    "student_classes = {'Alice': 'Physics',\n",
    "                   'Jack': 'Chemistry',\n",
    "                   'Molly': 'English',\n",
    "                   'Sam': 'History'}\n",
    "\n",
    "s = pd.Series(student_classes)\n",
    "print(s)\n",
    "\n",
    "# to see the fourth entry\n",
    "\n",
    "print(s.iloc[3])\n",
    "\n",
    "# to see the Molly's class\n",
    "\n",
    "print(s.loc['Molly'])"
   ]
  },
  {
   "cell_type": "code",
   "execution_count": 11,
   "metadata": {},
   "outputs": [],
   "source": [
    "# example 2\n",
    "\n",
    "class_code = {99: 'Physics',\n",
    "              100: 'Chemistry',\n",
    "              101: 'English',\n",
    "              102: 'History'}\n",
    "\n",
    "s = pd.Series(class_code)\n",
    "\n",
    "# s[0] ---> will be an error"
   ]
  },
  {
   "cell_type": "code",
   "execution_count": 12,
   "metadata": {},
   "outputs": [
    {
     "name": "stdout",
     "output_type": "stream",
     "text": [
      "75.0\n"
     ]
    }
   ],
   "source": [
    "# example 3\n",
    "\n",
    "# slow method\n",
    "\n",
    "grades = pd.Series([90, 80, 70, 60])\n",
    "\n",
    "total = 0\n",
    "\n",
    "for grade in grades:\n",
    "    total += grade\n",
    "\n",
    "print(total / len(grades))"
   ]
  },
  {
   "cell_type": "code",
   "execution_count": 13,
   "metadata": {},
   "outputs": [
    {
     "name": "stdout",
     "output_type": "stream",
     "text": [
      "75.0\n"
     ]
    }
   ],
   "source": [
    "# example 4\n",
    "\n",
    "# much faster\n",
    "\n",
    "total = np.sum(grades)\n",
    "print(total / len(grades))"
   ]
  },
  {
   "cell_type": "code",
   "execution_count": 14,
   "metadata": {},
   "outputs": [
    {
     "name": "stdout",
     "output_type": "stream",
     "text": [
      "0    965\n",
      "1    634\n",
      "2    122\n",
      "3    672\n",
      "4    375\n",
      "dtype: int32\n"
     ]
    }
   ],
   "source": [
    "# example 5\n",
    "\n",
    "numbers = pd.Series(np.random.randint(0, 1000, 10000))\n",
    "\n",
    "print(numbers.head())"
   ]
  },
  {
   "cell_type": "code",
   "execution_count": 15,
   "metadata": {},
   "outputs": [
    {
     "name": "stdout",
     "output_type": "stream",
     "text": [
      "10000\n"
     ]
    }
   ],
   "source": [
    "print(len(numbers))"
   ]
  },
  {
   "cell_type": "code",
   "execution_count": 16,
   "metadata": {},
   "outputs": [
    {
     "name": "stdout",
     "output_type": "stream",
     "text": [
      "0            1\n",
      "1            2\n",
      "2            3\n",
      "History    102\n",
      "dtype: int64\n"
     ]
    }
   ],
   "source": [
    "# example 6\n",
    "\n",
    "s = pd.Series([1, 2, 3])\n",
    "s.loc['History'] = 102\n",
    "print(s)"
   ]
  },
  {
   "cell_type": "code",
   "execution_count": 17,
   "metadata": {},
   "outputs": [
    {
     "name": "stdout",
     "output_type": "stream",
     "text": [
      "Alice      Physics\n",
      "Jack     Chemistry\n",
      "Molly      English\n",
      "Sam        History\n",
      "dtype: object\n"
     ]
    }
   ],
   "source": [
    "# example 7\n",
    "\n",
    "student_classes = pd.Series({'Alice': 'Physics',\n",
    "                             'Jack': 'Chemistry',\n",
    "                             'Molly': 'English',\n",
    "                             'Sam': 'History'})\n",
    "\n",
    "print(student_classes)"
   ]
  },
  {
   "cell_type": "code",
   "execution_count": 33,
   "metadata": {},
   "outputs": [
    {
     "name": "stdout",
     "output_type": "stream",
     "text": [
      "Kelly    Philosophy\n",
      "Kelly          Arts\n",
      "Kelly          Math\n",
      "dtype: object\n"
     ]
    }
   ],
   "source": [
    "kelly_classes = pd.Series(['Philosophy', 'Arts', 'Math'], index=['Kelly', 'Kelly', 'Kelly'])\n",
    "\n",
    "print(kelly_classes)"
   ]
  },
  {
   "cell_type": "code",
   "execution_count": 36,
   "metadata": {},
   "outputs": [
    {
     "name": "stdout",
     "output_type": "stream",
     "text": [
      "Alice       Physics\n",
      "Jack      Chemistry\n",
      "Molly       English\n",
      "Sam         History\n",
      "Kelly    Philosophy\n",
      "Kelly          Arts\n",
      "Kelly          Math\n",
      "dtype: object\n"
     ]
    },
    {
     "name": "stderr",
     "output_type": "stream",
     "text": [
      "C:\\Users\\Latitude 7270\\AppData\\Local\\Temp\\ipykernel_9260\\3452306607.py:1: FutureWarning: The series.append method is deprecated and will be removed from pandas in a future version. Use pandas.concat instead.\n",
      "  all_student_classes = student_classes.append(kelly_classes)\n"
     ]
    }
   ],
   "source": [
    "all_student_classes = student_classes.append(kelly_classes)\n",
    "\n",
    "print(all_student_classes)"
   ]
  },
  {
   "cell_type": "code",
   "execution_count": 37,
   "metadata": {},
   "outputs": [
    {
     "name": "stdout",
     "output_type": "stream",
     "text": [
      "Kelly    Philosophy\n",
      "Kelly          Arts\n",
      "Kelly          Math\n",
      "dtype: object\n"
     ]
    }
   ],
   "source": [
    "print(all_student_classes.loc['Kelly'])"
   ]
  }
 ],
 "metadata": {
  "kernelspec": {
   "display_name": "Python 3 (ipykernel)",
   "language": "python",
   "name": "python3"
  },
  "language_info": {
   "codemirror_mode": {
    "name": "ipython",
    "version": 3
   },
   "file_extension": ".py",
   "mimetype": "text/x-python",
   "name": "python",
   "nbconvert_exporter": "python",
   "pygments_lexer": "ipython3",
   "version": "3.8.10"
  },
  "vscode": {
   "interpreter": {
    "hash": "8f8da44d5dee8642e22067d2cc2ed0e0d2926a9915372ce333a03393833cf2a0"
   }
  }
 },
 "nbformat": 4,
 "nbformat_minor": 4
}

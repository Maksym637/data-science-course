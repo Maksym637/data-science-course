{
 "cells": [
  {
   "cell_type": "markdown",
   "metadata": {},
   "source": [
    "### Get started with _Data Manipulation_ !"
   ]
  },
  {
   "cell_type": "markdown",
   "metadata": {},
   "source": [
    "#### Section 4.1\n",
    "\n",
    "(Basic Statistical Testing)"
   ]
  },
  {
   "cell_type": "code",
   "execution_count": 33,
   "metadata": {},
   "outputs": [
    {
     "data": {
      "text/html": [
       "<div>\n",
       "<style scoped>\n",
       "    .dataframe tbody tr th:only-of-type {\n",
       "        vertical-align: middle;\n",
       "    }\n",
       "\n",
       "    .dataframe tbody tr th {\n",
       "        vertical-align: top;\n",
       "    }\n",
       "\n",
       "    .dataframe thead th {\n",
       "        text-align: right;\n",
       "    }\n",
       "</style>\n",
       "<table border=\"1\" class=\"dataframe\">\n",
       "  <thead>\n",
       "    <tr style=\"text-align: right;\">\n",
       "      <th></th>\n",
       "      <th>#</th>\n",
       "      <th>President</th>\n",
       "      <th>Born</th>\n",
       "    </tr>\n",
       "  </thead>\n",
       "  <tbody>\n",
       "    <tr>\n",
       "      <th>0</th>\n",
       "      <td>1</td>\n",
       "      <td>George Washington</td>\n",
       "      <td>Feb 22 (1732)</td>\n",
       "    </tr>\n",
       "    <tr>\n",
       "      <th>1</th>\n",
       "      <td>2</td>\n",
       "      <td>John Adams</td>\n",
       "      <td>Oct 30 (1735)</td>\n",
       "    </tr>\n",
       "    <tr>\n",
       "      <th>2</th>\n",
       "      <td>3</td>\n",
       "      <td>Thomas Jefferson</td>\n",
       "      <td>Apr 13 (1743)</td>\n",
       "    </tr>\n",
       "    <tr>\n",
       "      <th>3</th>\n",
       "      <td>4</td>\n",
       "      <td>James Madison</td>\n",
       "      <td>Mar 16 (1751)</td>\n",
       "    </tr>\n",
       "    <tr>\n",
       "      <th>4</th>\n",
       "      <td>5</td>\n",
       "      <td>James Monroe</td>\n",
       "      <td>Apr 28 (1758)</td>\n",
       "    </tr>\n",
       "  </tbody>\n",
       "</table>\n",
       "</div>"
      ],
      "text/plain": [
       "   #          President           Born\n",
       "0  1  George Washington  Feb 22 (1732)\n",
       "1  2         John Adams  Oct 30 (1735)\n",
       "2  3   Thomas Jefferson  Apr 13 (1743)\n",
       "3  4      James Madison  Mar 16 (1751)\n",
       "4  5       James Monroe  Apr 28 (1758)"
      ]
     },
     "execution_count": 33,
     "metadata": {},
     "output_type": "execute_result"
    }
   ],
   "source": [
    "# example 1\n",
    "\n",
    "import numpy as np\n",
    "import pandas as pd\n",
    "\n",
    "df = pd.read_csv('datasets/presidents.csv')\n",
    "df"
   ]
  },
  {
   "cell_type": "code",
   "execution_count": 34,
   "metadata": {},
   "outputs": [
    {
     "name": "stdout",
     "output_type": "stream",
     "text": [
      "There are 5 rows and 3 columns\n"
     ]
    }
   ],
   "source": [
    "print(\"There are {} rows and {} columns\".format(df.shape[0], df.shape[1]))"
   ]
  },
  {
   "cell_type": "code",
   "execution_count": 35,
   "metadata": {},
   "outputs": [
    {
     "data": {
      "text/html": [
       "<div>\n",
       "<style scoped>\n",
       "    .dataframe tbody tr th:only-of-type {\n",
       "        vertical-align: middle;\n",
       "    }\n",
       "\n",
       "    .dataframe tbody tr th {\n",
       "        vertical-align: top;\n",
       "    }\n",
       "\n",
       "    .dataframe thead th {\n",
       "        text-align: right;\n",
       "    }\n",
       "</style>\n",
       "<table border=\"1\" class=\"dataframe\">\n",
       "  <thead>\n",
       "    <tr style=\"text-align: right;\">\n",
       "      <th></th>\n",
       "      <th>0</th>\n",
       "      <th>1</th>\n",
       "      <th>2</th>\n",
       "      <th>3</th>\n",
       "      <th>4</th>\n",
       "      <th>5</th>\n",
       "      <th>6</th>\n",
       "      <th>7</th>\n",
       "      <th>8</th>\n",
       "      <th>9</th>\n",
       "      <th>...</th>\n",
       "      <th>90</th>\n",
       "      <th>91</th>\n",
       "      <th>92</th>\n",
       "      <th>93</th>\n",
       "      <th>94</th>\n",
       "      <th>95</th>\n",
       "      <th>96</th>\n",
       "      <th>97</th>\n",
       "      <th>98</th>\n",
       "      <th>99</th>\n",
       "    </tr>\n",
       "  </thead>\n",
       "  <tbody>\n",
       "    <tr>\n",
       "      <th>0</th>\n",
       "      <td>0.951862</td>\n",
       "      <td>0.049858</td>\n",
       "      <td>0.226985</td>\n",
       "      <td>0.793622</td>\n",
       "      <td>0.575099</td>\n",
       "      <td>0.618201</td>\n",
       "      <td>0.817200</td>\n",
       "      <td>0.287655</td>\n",
       "      <td>0.527934</td>\n",
       "      <td>0.108884</td>\n",
       "      <td>...</td>\n",
       "      <td>0.245031</td>\n",
       "      <td>0.373079</td>\n",
       "      <td>0.838887</td>\n",
       "      <td>0.103508</td>\n",
       "      <td>0.946883</td>\n",
       "      <td>0.730528</td>\n",
       "      <td>0.900413</td>\n",
       "      <td>0.107113</td>\n",
       "      <td>0.656056</td>\n",
       "      <td>0.564943</td>\n",
       "    </tr>\n",
       "    <tr>\n",
       "      <th>1</th>\n",
       "      <td>0.120627</td>\n",
       "      <td>0.561317</td>\n",
       "      <td>0.851000</td>\n",
       "      <td>0.599335</td>\n",
       "      <td>0.222557</td>\n",
       "      <td>0.457735</td>\n",
       "      <td>0.450078</td>\n",
       "      <td>0.192844</td>\n",
       "      <td>0.875199</td>\n",
       "      <td>0.741027</td>\n",
       "      <td>...</td>\n",
       "      <td>0.950329</td>\n",
       "      <td>0.205103</td>\n",
       "      <td>0.386459</td>\n",
       "      <td>0.710934</td>\n",
       "      <td>0.778201</td>\n",
       "      <td>0.336509</td>\n",
       "      <td>0.389642</td>\n",
       "      <td>0.936741</td>\n",
       "      <td>0.984207</td>\n",
       "      <td>0.137541</td>\n",
       "    </tr>\n",
       "    <tr>\n",
       "      <th>2</th>\n",
       "      <td>0.084978</td>\n",
       "      <td>0.683614</td>\n",
       "      <td>0.051433</td>\n",
       "      <td>0.863583</td>\n",
       "      <td>0.328898</td>\n",
       "      <td>0.124535</td>\n",
       "      <td>0.843398</td>\n",
       "      <td>0.760440</td>\n",
       "      <td>0.307417</td>\n",
       "      <td>0.319356</td>\n",
       "      <td>...</td>\n",
       "      <td>0.713573</td>\n",
       "      <td>0.078910</td>\n",
       "      <td>0.281665</td>\n",
       "      <td>0.203672</td>\n",
       "      <td>0.471728</td>\n",
       "      <td>0.268027</td>\n",
       "      <td>0.645610</td>\n",
       "      <td>0.636666</td>\n",
       "      <td>0.824899</td>\n",
       "      <td>0.024017</td>\n",
       "    </tr>\n",
       "    <tr>\n",
       "      <th>3</th>\n",
       "      <td>0.932827</td>\n",
       "      <td>0.226214</td>\n",
       "      <td>0.563590</td>\n",
       "      <td>0.494308</td>\n",
       "      <td>0.524970</td>\n",
       "      <td>0.018626</td>\n",
       "      <td>0.367853</td>\n",
       "      <td>0.211201</td>\n",
       "      <td>0.634681</td>\n",
       "      <td>0.329383</td>\n",
       "      <td>...</td>\n",
       "      <td>0.341414</td>\n",
       "      <td>0.140837</td>\n",
       "      <td>0.402488</td>\n",
       "      <td>0.053459</td>\n",
       "      <td>0.039434</td>\n",
       "      <td>0.333313</td>\n",
       "      <td>0.320723</td>\n",
       "      <td>0.970638</td>\n",
       "      <td>0.299773</td>\n",
       "      <td>0.037205</td>\n",
       "    </tr>\n",
       "    <tr>\n",
       "      <th>4</th>\n",
       "      <td>0.262809</td>\n",
       "      <td>0.034322</td>\n",
       "      <td>0.756762</td>\n",
       "      <td>0.841345</td>\n",
       "      <td>0.057908</td>\n",
       "      <td>0.793815</td>\n",
       "      <td>0.407563</td>\n",
       "      <td>0.896856</td>\n",
       "      <td>0.159278</td>\n",
       "      <td>0.874743</td>\n",
       "      <td>...</td>\n",
       "      <td>0.134402</td>\n",
       "      <td>0.191526</td>\n",
       "      <td>0.106750</td>\n",
       "      <td>0.825940</td>\n",
       "      <td>0.770665</td>\n",
       "      <td>0.788192</td>\n",
       "      <td>0.346951</td>\n",
       "      <td>0.200600</td>\n",
       "      <td>0.018455</td>\n",
       "      <td>0.492925</td>\n",
       "    </tr>\n",
       "  </tbody>\n",
       "</table>\n",
       "<p>5 rows × 100 columns</p>\n",
       "</div>"
      ],
      "text/plain": [
       "         0         1         2         3         4         5         6   \\\n",
       "0  0.951862  0.049858  0.226985  0.793622  0.575099  0.618201  0.817200   \n",
       "1  0.120627  0.561317  0.851000  0.599335  0.222557  0.457735  0.450078   \n",
       "2  0.084978  0.683614  0.051433  0.863583  0.328898  0.124535  0.843398   \n",
       "3  0.932827  0.226214  0.563590  0.494308  0.524970  0.018626  0.367853   \n",
       "4  0.262809  0.034322  0.756762  0.841345  0.057908  0.793815  0.407563   \n",
       "\n",
       "         7         8         9   ...        90        91        92        93  \\\n",
       "0  0.287655  0.527934  0.108884  ...  0.245031  0.373079  0.838887  0.103508   \n",
       "1  0.192844  0.875199  0.741027  ...  0.950329  0.205103  0.386459  0.710934   \n",
       "2  0.760440  0.307417  0.319356  ...  0.713573  0.078910  0.281665  0.203672   \n",
       "3  0.211201  0.634681  0.329383  ...  0.341414  0.140837  0.402488  0.053459   \n",
       "4  0.896856  0.159278  0.874743  ...  0.134402  0.191526  0.106750  0.825940   \n",
       "\n",
       "         94        95        96        97        98        99  \n",
       "0  0.946883  0.730528  0.900413  0.107113  0.656056  0.564943  \n",
       "1  0.778201  0.336509  0.389642  0.936741  0.984207  0.137541  \n",
       "2  0.471728  0.268027  0.645610  0.636666  0.824899  0.024017  \n",
       "3  0.039434  0.333313  0.320723  0.970638  0.299773  0.037205  \n",
       "4  0.770665  0.788192  0.346951  0.200600  0.018455  0.492925  \n",
       "\n",
       "[5 rows x 100 columns]"
      ]
     },
     "execution_count": 35,
     "metadata": {},
     "output_type": "execute_result"
    }
   ],
   "source": [
    "# example 2\n",
    "\n",
    "df1 = pd.DataFrame([np.random.random(100) for x in range(100)])\n",
    "df1.head()"
   ]
  },
  {
   "cell_type": "code",
   "execution_count": 36,
   "metadata": {},
   "outputs": [],
   "source": [
    "df2 = pd.DataFrame([np.random.random(100) for x in range(100)])"
   ]
  },
  {
   "cell_type": "code",
   "execution_count": 37,
   "metadata": {},
   "outputs": [
    {
     "name": "stdout",
     "output_type": "stream",
     "text": [
      "Col 29 is statistically significantly different at alpha = 0.1, pval = 0.026168361109273782\n",
      "Col 43 is statistically significantly different at alpha = 0.1, pval = 0.031004148588633755\n",
      "Col 48 is statistically significantly different at alpha = 0.1, pval = 0.06992289207364348\n",
      "Col 55 is statistically significantly different at alpha = 0.1, pval = 0.09750847707620229\n",
      "Col 56 is statistically significantly different at alpha = 0.1, pval = 0.029930300153004546\n",
      "Col 82 is statistically significantly different at alpha = 0.1, pval = 0.07498333205198462\n",
      "Col 83 is statistically significantly different at alpha = 0.1, pval = 0.0957517168281976\n",
      "Col 89 is statistically significantly different at alpha = 0.1, pval = 0.044092715418671144\n",
      "Col 91 is statistically significantly different at alpha = 0.1, pval = 0.0881077328268636\n",
      "Col 92 is statistically significantly different at alpha = 0.1, pval = 0.004114548420527124\n",
      "Total number different was 10, which is 10.0 %\n"
     ]
    }
   ],
   "source": [
    "from scipy.stats import ttest_ind\n",
    "\n",
    "def test_column(alpha=0.1):\n",
    "    num_diff = 0\n",
    "\n",
    "    for col in df1.columns:\n",
    "        teststat, pval = ttest_ind(df1[col], df2[col])\n",
    "\n",
    "        if pval <= alpha:\n",
    "            print(\"Col {} is statistically significantly different at alpha = {}, pval = {}\".format(col, alpha, pval))\n",
    "            num_diff += 1\n",
    "    \n",
    "    print(\"Total number different was {}, which is {} %\".format(num_diff, (float(num_diff) / len(df1.columns)) * 100))\n",
    "\n",
    "test_column()"
   ]
  },
  {
   "cell_type": "code",
   "execution_count": 38,
   "metadata": {},
   "outputs": [
    {
     "name": "stdout",
     "output_type": "stream",
     "text": [
      "Col 29 is statistically significantly different at alpha = 0.05, pval = 0.026168361109273782\n",
      "Col 43 is statistically significantly different at alpha = 0.05, pval = 0.031004148588633755\n",
      "Col 56 is statistically significantly different at alpha = 0.05, pval = 0.029930300153004546\n",
      "Col 89 is statistically significantly different at alpha = 0.05, pval = 0.044092715418671144\n",
      "Col 92 is statistically significantly different at alpha = 0.05, pval = 0.004114548420527124\n",
      "Total number different was 5, which is 5.0 %\n"
     ]
    }
   ],
   "source": [
    "test_column(0.05)"
   ]
  },
  {
   "cell_type": "markdown",
   "metadata": {},
   "source": [
    "#### About statistical testing :\n",
    "\n",
    "- The _p_ value reports the probability we can get the observed data under the null hypothesis, so with a larger _p_ value\n",
    "  (by larger we mean it is closer to 1, instead of saying that it is more extreme), we have less evidence to reject the \n",
    "  null hypothesis.\n",
    "\n",
    "- With a larger _alpha_, we reject the null hypothesis less carefully.\n"
   ]
  },
  {
   "cell_type": "markdown",
   "metadata": {},
   "source": [
    "#### Section 4.2\n",
    "\n",
    "( Other Forms of Structured Data )\n",
    "\n",
    "Different forms of representations :\n",
    "\n",
    "- Network diagram\n",
    "\n",
    "- Graph representation\n",
    "\n",
    "- Tree diagram (Language Parse Tree)"
   ]
  }
 ],
 "metadata": {
  "kernelspec": {
   "display_name": "Python 3.8.10 64-bit (windows store)",
   "language": "python",
   "name": "python3"
  },
  "language_info": {
   "codemirror_mode": {
    "name": "ipython",
    "version": 3
   },
   "file_extension": ".py",
   "mimetype": "text/x-python",
   "name": "python",
   "nbconvert_exporter": "python",
   "pygments_lexer": "ipython3",
   "version": "3.8.10"
  },
  "orig_nbformat": 4,
  "vscode": {
   "interpreter": {
    "hash": "8f8da44d5dee8642e22067d2cc2ed0e0d2926a9915372ce333a03393833cf2a0"
   }
  }
 },
 "nbformat": 4,
 "nbformat_minor": 2
}
